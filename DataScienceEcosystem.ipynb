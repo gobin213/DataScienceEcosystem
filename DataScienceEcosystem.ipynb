{
 "cells": [
  {
   "cell_type": "markdown",
   "id": "441eb9d9-094b-4dbe-afdb-8f959687a96c",
   "metadata": {},
   "source": [
    "# Data Science Tools and Ecosystem"
   ]
  },
  {
   "cell_type": "markdown",
   "id": "18a22295-fb75-4ffe-8263-76ec0a689758",
   "metadata": {},
   "source": [
    "In this notebook, Data Science Tools and Ecosystem are summarized."
   ]
  },
  {
   "cell_type": "markdown",
   "id": "de2e7dc0-1be6-4a64-b955-3ea170cabcbf",
   "metadata": {},
   "source": [
    "Some of the popular languages that Data Scientists use are:\n",
    "1. Python\n",
    "2. R\n",
    "3. Julia"
   ]
  },
  {
   "cell_type": "markdown",
   "id": "6ef94ce9-90ea-43b8-9f8a-438312096bed",
   "metadata": {},
   "source": [
    "Some of the commonly used libraries used by Data Scientists include:\n",
    "1. Pandas\n",
    "2. Numpy\n",
    "3. Scikit-learn\n",
    "4. Matplotlib\n",
    "5. NLTK"
   ]
  },
  {
   "cell_type": "markdown",
   "id": "0c3ff87c-c5cb-4297-a823-62cfd42eabdc",
   "metadata": {},
   "source": [
    "|Data Science Tools|\n",
    "|------------------|\n",
    "|Apache Spark|\n",
    "|Tableau|\n",
    "|Tensonflow|\n",
    "|Python|\n",
    " |R|\n",
    " |Matplotlib|"
   ]
  },
  {
   "cell_type": "markdown",
   "id": "e1a5d8da-1cd3-4d55-a11f-4c4482e12bee",
   "metadata": {},
   "source": [
    "### Below are a few examples of evaluating arithmetic expressions in python."
   ]
  },
  {
   "cell_type": "markdown",
   "id": "a7ce1213-e4f2-4909-a94d-a08668e68458",
   "metadata": {},
   "source": [
    "This is a simple arithmatic expression to multiply then add integers."
   ]
  },
  {
   "cell_type": "code",
   "execution_count": 1,
   "id": "1420bf57-883b-4957-bb3b-aa435d0c58d3",
   "metadata": {},
   "outputs": [
    {
     "data": {
      "text/plain": [
       "17"
      ]
     },
     "execution_count": 1,
     "metadata": {},
     "output_type": "execute_result"
    }
   ],
   "source": [
    "(3*4)+5"
   ]
  },
  {
   "cell_type": "markdown",
   "id": "c94a376b-419c-4d54-819d-907d363b18dc",
   "metadata": {},
   "source": [
    "This will convert 200 minutes to hours by dividing by 60."
   ]
  },
  {
   "cell_type": "code",
   "execution_count": 3,
   "id": "83f5fa30-6125-4a83-8da2-2661ed90f5d1",
   "metadata": {},
   "outputs": [
    {
     "data": {
      "text/plain": [
       "3.3333333333333335"
      ]
     },
     "execution_count": 3,
     "metadata": {},
     "output_type": "execute_result"
    }
   ],
   "source": [
    "(200/60)"
   ]
  },
  {
   "cell_type": "markdown",
   "id": "01c6ae48-0cd7-40a2-af0f-f907375c076b",
   "metadata": {},
   "source": [
    "__Objectives:__"
   ]
  },
  {
   "cell_type": "markdown",
   "id": "db9014b4-ce8a-40ea-8dc4-9ac23dac8279",
   "metadata": {},
   "source": [
    "- List popular languages in Data Science\n",
    "- List popular tools in Data Sciene\n",
    "- Create a Table\n",
    "- Arithmetic expressions in python"
   ]
  },
  {
   "cell_type": "markdown",
   "id": "e1734844-1c08-4426-8ddf-9a90d63e195b",
   "metadata": {},
   "source": [
    "## Author"
   ]
  },
  {
   "cell_type": "markdown",
   "id": "74a0717f-fbe7-4f85-8638-b9f15471bca7",
   "metadata": {},
   "source": [
    "Gobinda Thapa"
   ]
  },
  {
   "cell_type": "code",
   "execution_count": null,
   "id": "35999a38-e725-435d-9944-08a869f56dce",
   "metadata": {},
   "outputs": [],
   "source": []
  }
 ],
 "metadata": {
  "kernelspec": {
   "display_name": "Python 3 (ipykernel)",
   "language": "python",
   "name": "python3"
  },
  "language_info": {
   "codemirror_mode": {
    "name": "ipython",
    "version": 3
   },
   "file_extension": ".py",
   "mimetype": "text/x-python",
   "name": "python",
   "nbconvert_exporter": "python",
   "pygments_lexer": "ipython3",
   "version": "3.12.4"
  }
 },
 "nbformat": 4,
 "nbformat_minor": 5
}
